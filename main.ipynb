{
 "cells": [
  {
   "cell_type": "markdown",
   "metadata": {},
   "source": [
    "## Enunciado del problema\n",
    "\n",
    "Se requiere construir con modulo donde se puedan consolidar diferentes hojas de varios archivos Excel y dejar en un solo documento. El reto esta en que las hojas no pueden perder su formato original y estos archivos se podrán guardar en carpetas según el año y mes de ejecución. Tener en cuenta que el nombre de los archivos debe ser dinámico, tanto del origen como del destino (el origen de los archivos insumos es diferente para cada uno de ellos y la ruta destino se especifica según la  decisión del usuario). NOTA: De ser necesario se puede implementar una tabla paramétrica para configurar el comportamiento del módulo.\n",
    "\n",
    "## Solución \n",
    "\n",
    "Autor: Daniel Felipe Solano León\n",
    "\n",
    "e-mail: dasolano@bancolombia.com.co\n",
    "\n",
    "Celular: 3192031658"
   ]
  },
  {
   "cell_type": "markdown",
   "metadata": {},
   "source": [
    "# Instrucciones\n",
    "\n",
    "Este notebook permite consolidar en un solo archivo Excel de salida todas las hojas (pestañas) de múltiples archivos de Excel de entrada. El formato y estilos (fuentes, colores, etc)\n",
    "se conservarán.\n",
    "\n",
    "### Variables de entrada\n",
    "\n",
    "En la celda inferior hay una variable llamada **input_paths**, la cual contiene la lista de las ubicaciones de las carpetas que contienen los archivos Excel de entarada.\n",
    "Este algoritmo detectará automáticamente todos los archivos Excel (.xlsx) que se encuentren en ella, independientemente de qué tan profundos se encuentren.\n",
    "Por ejemplo, si la carpeta *folder1* contiene el archivo *file1.xlsx* y la carpeta *folder2*, y a su vez la carpeta *folder2* contiene el archivo *file2.xlsx*, entonces\n",
    "en **input_paths** sólo especifique 'folder1' y no 'folder2', dado que *folder1* contiene a *folder2*. Si solo desea especificar los archivos contenidos en *folder2*\n",
    "entonces en **input_paths** especifique 'folder1\\folder2'. Todas las ubicaciones que especifique son relativas a la ubicación de este archivo (main.ipynb).\n",
    "\n",
    "### Variables de salida\n",
    "\n",
    "En la celda inferior hay dos variables de salida. \n",
    "\n",
    "La variable **output_dir_path** especifica el nombre de la carpeta en donde será producido el archivo Excel de salida. En esta carpeta se creará, adicionalmente, una carpeta\n",
    "llamada con el nombre del año en que se ejecute este código y en esta última una subcarpeta con el nombre del mes del año en que se ejecute este código.\n",
    "\n",
    "La variable **output_filename** especifica el nombre del archivo de salida que será producido."
   ]
  },
  {
   "cell_type": "code",
   "execution_count": 26,
   "metadata": {},
   "outputs": [],
   "source": [
    "import xlwings as xw\n",
    "import os\n",
    "from datetime import date\n",
    "import shutil\n",
    "import openpyxl\n",
    "import pathlib\n",
    "\n",
    "current_filepath = pathlib.Path('main.ipynb').parent.resolve()\n",
    "\n",
    "def get_filepaths(root_path):\n",
    "  try:\n",
    "    root_iterator = os.scandir(root_path)\n",
    "    paths = []\n",
    "    for entry in root_iterator:\n",
    "      if entry.is_file():\n",
    "        paths.append(entry.path)\n",
    "      elif entry.is_dir():\n",
    "        paths.extend(get_filepaths(entry.path))\n",
    "    return paths\n",
    "  except:\n",
    "    return []\n",
    "\n",
    "input_paths = ['folder1', 'folder2']\n",
    "output_dir_path = 'output'\n",
    "output_filename = 'output_filename'\n",
    "\n",
    "all_paths = []\n",
    "for path in input_paths:\n",
    "  all_paths.extend(get_filepaths(path))\n",
    "\n",
    "output_dir_date = f'{output_dir_path}\\{date.today().year}\\{date.today().month}'\n",
    "\n",
    "if os.path.exists(output_dir_date):\n",
    "  shutil.rmtree(output_dir_date)\n",
    "  os.makedirs(output_dir_date)\n",
    "else:\n",
    "  os.makedirs(output_dir_date)\n",
    "\n",
    "wb = openpyxl.Workbook()\n",
    "path = f'{output_dir_date}\\{output_filename}.xlsx'\n",
    "wb.save(path)\n",
    "\n",
    "output_excel = xw.Book(f'{current_filepath}\\{path}')\n",
    "\n",
    "for path in all_paths:\n",
    "  full_path = f'{current_filepath}\\{path}'\n",
    "  current_excel = xw.Book(full_path)\n",
    "\n",
    "  for sheet_number in range(1, len(current_excel.sheets) + 1):\n",
    "    sheet = current_excel.sheets(sheet_number)\n",
    "    sheet.api.Copy(Before = output_excel.sheets(1).api)\n",
    "\n",
    "output_excel.sheets[-1].delete()\n",
    "output_excel.save()\n",
    "output_excel.app.quit()"
   ]
  }
 ],
 "metadata": {
  "interpreter": {
   "hash": "ad2bdc8ecc057115af97d19610ffacc2b4e99fae6737bb82f5d7fb13d2f2c186"
  },
  "kernelspec": {
   "display_name": "Python 3.9.7 ('base')",
   "language": "python",
   "name": "python3"
  },
  "language_info": {
   "codemirror_mode": {
    "name": "ipython",
    "version": 3
   },
   "file_extension": ".py",
   "mimetype": "text/x-python",
   "name": "python",
   "nbconvert_exporter": "python",
   "pygments_lexer": "ipython3",
   "version": "3.9.7"
  },
  "orig_nbformat": 4
 },
 "nbformat": 4,
 "nbformat_minor": 2
}
